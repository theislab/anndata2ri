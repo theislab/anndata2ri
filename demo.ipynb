{
 "cells": [
  {
   "cell_type": "code",
   "execution_count": 1,
   "metadata": {
    "pycharm": {
     "name": "#%%\n"
    }
   },
   "outputs": [],
   "source": [
    "from __future__ import annotations\n",
    "\n",
    "import anndata2ri\n",
    "\n",
    "\n",
    "%load_ext rpy2.ipython\n",
    "anndata2ri.set_ipython_converter()"
   ]
  },
  {
   "cell_type": "code",
   "execution_count": 2,
   "metadata": {},
   "outputs": [],
   "source": [
    "import scanpy as sc"
   ]
  },
  {
   "cell_type": "code",
   "execution_count": 3,
   "metadata": {},
   "outputs": [],
   "source": [
    "adata_paul = sc.datasets.paul15()"
   ]
  },
  {
   "cell_type": "code",
   "execution_count": 4,
   "metadata": {},
   "outputs": [
    {
     "name": "stdout",
     "output_type": "stream",
     "text": [
      "class: SingleCellExperiment \n",
      "dim: 3451 2730 \n",
      "metadata(1): iroot\n",
      "assays(1): X\n",
      "rownames(3451): 0610007L01Rik 0610009O20Rik ... rp9 slc43a2\n",
      "rowData names(0):\n",
      "colnames(2730): W31105 W31106 ... W39167 W39168\n",
      "colData names(1): paul15_clusters\n",
      "reducedDimNames(0):\n",
      "mainExpName: NULL\n",
      "altExpNames(0):\n"
     ]
    }
   ],
   "source": [
    "%%R -i adata_paul\n",
    "print(adata_paul)"
   ]
  },
  {
   "cell_type": "code",
   "execution_count": 5,
   "metadata": {},
   "outputs": [],
   "source": [
    "%%R -o adata_allen\n",
    "suppressPackageStartupMessages(library('SingleCellExperiment'))\n",
    "allen <- scRNAseq::ReprocessedAllenData()\n",
    "adata_allen <- as(allen, 'SingleCellExperiment')"
   ]
  },
  {
   "cell_type": "code",
   "execution_count": 6,
   "metadata": {},
   "outputs": [
    {
     "name": "stdout",
     "output_type": "stream",
     "text": [
      "AnnData object with n_obs × n_vars = 379 × 20816\n",
      "    obs: 'NREADS', 'NALIGNED', 'RALIGN', 'TOTAL_DUP', 'PRIMER', 'PCT_RIBOSOMAL_BASES', 'PCT_CODING_BASES', 'PCT_UTR_BASES', 'PCT_INTRONIC_BASES', 'PCT_INTERGENIC_BASES', 'PCT_MRNA_BASES', 'MEDIAN_CV_COVERAGE', 'MEDIAN_5PRIME_BIAS', 'MEDIAN_3PRIME_BIAS', 'MEDIAN_5PRIME_TO_3PRIME_BIAS', 'driver_1_s', 'dissection_s', 'Core.Type', 'Primary.Type', 'Secondary.Type', 'Animal.ID', 'passes_qc_checks_s'\n",
      "    uns: np.str_('SuppInfo'), np.str_('which_qc')\n",
      "    layers: 'cufflinks_fpkm', 'rsem_counts', 'rsem_tpm'\n"
     ]
    }
   ],
   "source": [
    "print(adata_allen)"
   ]
  }
 ],
 "metadata": {
  "kernelspec": {
   "display_name": "Python 3",
   "language": "python",
   "name": "python3"
  },
  "language_info": {
   "codemirror_mode": {
    "name": "ipython",
    "version": 3
   },
   "file_extension": ".py",
   "mimetype": "text/x-python",
   "name": "python",
   "nbconvert_exporter": "python",
   "pygments_lexer": "ipython3",
   "version": "3.13.5"
  }
 },
 "nbformat": 4,
 "nbformat_minor": 4
}
